{
  "nbformat": 4,
  "nbformat_minor": 0,
  "metadata": {
    "colab": {
      "provenance": [],
      "authorship_tag": "ABX9TyOEpbA4DylgTTi8gY/OUYCu",
      "include_colab_link": true
    },
    "kernelspec": {
      "name": "python3",
      "display_name": "Python 3"
    },
    "language_info": {
      "name": "python"
    }
  },
  "cells": [
    {
      "cell_type": "markdown",
      "metadata": {
        "id": "view-in-github",
        "colab_type": "text"
      },
      "source": [
        "<a href=\"https://colab.research.google.com/github/Preetham0607/upskillCampus/blob/main/agriculture_crop.ipynb\" target=\"_parent\"><img src=\"https://colab.research.google.com/assets/colab-badge.svg\" alt=\"Open In Colab\"/></a>"
      ]
    },
    {
      "cell_type": "code",
      "execution_count": 4,
      "metadata": {
        "colab": {
          "base_uri": "https://localhost:8080/"
        },
        "id": "zfktrifeV2hi",
        "outputId": "76807296-3610-469f-b57f-1d9d2e2127f9"
      },
      "outputs": [
        {
          "output_type": "stream",
          "name": "stdout",
          "text": [
            "Dataset already exists. Proceeding with analysis...\n",
            "Dataset loaded successfully!\n",
            "   Rainfall (mm)  Temperature (°C)  Soil Quality (pH)  Crop Yield (kg/ha)\n",
            "0            800                25                6.5                4000\n",
            "1            900                27                6.8                4500\n",
            "2            750                24                6.2                3800\n",
            "3           1000                30                7.0                5000\n",
            "4            850                26                6.6                4200\n",
            "RMSE: 122.0\n"
          ]
        }
      ],
      "source": [
        "import os\n",
        "import pandas as pd\n",
        "\n",
        "# Check if the dataset exists, if not, create it\n",
        "file_name = \"crop_production_data.csv\"\n",
        "\n",
        "if not os.path.exists(file_name):\n",
        "    # Sample data\n",
        "    data = {\n",
        "        \"Rainfall (mm)\": [800, 900, 750, 1000, 850],\n",
        "        \"Temperature (°C)\": [25, 27, 24, 30, 26],\n",
        "        \"Soil Quality (pH)\": [6.5, 6.8, 6.2, 7.0, 6.6],\n",
        "        \"Crop Yield (kg/ha)\": [4000, 4500, 3800, 5000, 4200]\n",
        "    }\n",
        "\n",
        "    df = pd.DataFrame(data)\n",
        "    df.to_csv(file_name, index=False)  # Save as CSV file\n",
        "    print(\"Dataset created successfully!\")\n",
        "else:\n",
        "    print(\"Dataset already exists. Proceeding with analysis...\")\n",
        "\n",
        "# Load the dataset\n",
        "data = pd.read_csv(file_name)\n",
        "print(\"Dataset loaded successfully!\")\n",
        "print(data.head())  # Display first few rows\n",
        "\n",
        "# Feature selection\n",
        "X = data[['Rainfall (mm)', 'Temperature (°C)', 'Soil Quality (pH)']]\n",
        "y = data['Crop Yield (kg/ha)']\n",
        "\n",
        "# Train-Test Split\n",
        "from sklearn.model_selection import train_test_split\n",
        "X_train, X_test, y_train, y_test = train_test_split(X, y, test_size=0.2, random_state=42)\n",
        "\n",
        "# Train the Machine Learning Model\n",
        "from sklearn.ensemble import RandomForestRegressor\n",
        "model = RandomForestRegressor(n_estimators=100)\n",
        "model.fit(X_train, y_train)\n",
        "\n",
        "# Make Predictions\n",
        "y_pred = model.predict(X_test)\n",
        "\n",
        "# Evaluate Model Performance\n",
        "from sklearn.metrics import mean_squared_error\n",
        "\n",
        "# Compute RMSE manually (taking square root)\n",
        "rmse = mean_squared_error(y_test, y_pred) ** 0.5\n",
        "print(\"RMSE:\", rmse)\n",
        "\n"
      ]
    },
    {
      "cell_type": "code",
      "source": [],
      "metadata": {
        "id": "cwp8j_abcJ6C"
      },
      "execution_count": null,
      "outputs": []
    }
  ]
}